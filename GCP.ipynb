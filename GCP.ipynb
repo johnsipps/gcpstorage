{
 "cells": [
  {
   "cell_type": "code",
   "execution_count": 1,
   "id": "3fb1434a",
   "metadata": {},
   "outputs": [],
   "source": [
    "from gcloud import storage"
   ]
  },
  {
   "cell_type": "code",
   "execution_count": 4,
   "id": "6f2bc68b",
   "metadata": {},
   "outputs": [
    {
     "name": "stdout",
     "output_type": "stream",
     "text": [
      "Bucket johnsbucket2021 created.\n"
     ]
    }
   ],
   "source": [
    "# Imports the Google Cloud client library\n",
    "#from google.cloud import storage\n",
    "\n",
    "# Instantiates a client\n",
    "storage_client = storage.Client()\n",
    "\n",
    "# The name for the new bucket\n",
    "bucket_name = \"johnsbucket2021\"\n",
    "\n",
    "# Creates the new bucket\n",
    "#bucket = storage_client.create_bucket(bucket_name)\n",
    "\n",
    "#print(\"Bucket {} created.\".format(bucket.name))"
   ]
  },
  {
   "cell_type": "code",
   "execution_count": 5,
   "id": "9f0f8f9b",
   "metadata": {},
   "outputs": [],
   "source": [
    "def upload_blob(bucket_name, source_file_name, destination_blob_name):\n",
    "    \"\"\"Uploads a file to the bucket.\"\"\"\n",
    "\n",
    "    #storage_client = storage.Client()\n",
    "    bucket = storage_client.bucket(bucket_name)\n",
    "    blob = bucket.blob(destination_blob_name)\n",
    "\n",
    "    blob.upload_from_filename(source_file_name)\n",
    "\n",
    "    print(\n",
    "        \"File {} uploaded to {}.\".format(\n",
    "            source_file_name, destination_blob_name\n",
    "        )\n",
    "    )"
   ]
  },
  {
   "cell_type": "code",
   "execution_count": 8,
   "id": "45fee255",
   "metadata": {},
   "outputs": [
    {
     "name": "stdout",
     "output_type": "stream",
     "text": [
      "File /Users/johnsippy/Documents/johnproject/emp.json uploaded to emp2.json.\n"
     ]
    }
   ],
   "source": [
    "source_file_name='/Users/johnsippy/Documents/johnproject/emp.json'\n",
    "destination_blob_name='emp2.json'\n",
    "upload_blob(bucket_name, source_file_name, destination_blob_name)"
   ]
  },
  {
   "cell_type": "code",
   "execution_count": null,
   "id": "e4146ee6",
   "metadata": {},
   "outputs": [],
   "source": []
  }
 ],
 "metadata": {
  "kernelspec": {
   "display_name": "Python 3",
   "language": "python",
   "name": "python3"
  },
  "language_info": {
   "codemirror_mode": {
    "name": "ipython",
    "version": 3
   },
   "file_extension": ".py",
   "mimetype": "text/x-python",
   "name": "python",
   "nbconvert_exporter": "python",
   "pygments_lexer": "ipython3",
   "version": "3.9.5"
  }
 },
 "nbformat": 4,
 "nbformat_minor": 5
}
